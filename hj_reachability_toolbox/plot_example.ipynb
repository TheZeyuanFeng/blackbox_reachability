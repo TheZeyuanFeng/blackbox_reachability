{
 "cells": [
  {
   "attachments": {},
   "cell_type": "markdown",
   "metadata": {},
   "source": [
    "## Code to plot the obtained level sets "
   ]
  },
  {
   "attachments": {},
   "cell_type": "markdown",
   "metadata": {},
   "source": [
    "### Imports"
   ]
  },
  {
   "cell_type": "code",
   "execution_count": null,
   "metadata": {},
   "outputs": [],
   "source": [
    "# Imports\n",
    "import os\n",
    "import jax\n",
    "import jax.numpy as jnp\n",
    "import numpy as np\n",
    "import hj_reachability as hj\n",
    "import pickle\n",
    "from flax import linen as nn"
   ]
  },
  {
   "attachments": {},
   "cell_type": "markdown",
   "metadata": {},
   "source": [
    "### Load Grid and Evaluated Values"
   ]
  },
  {
   "cell_type": "code",
   "execution_count": null,
   "metadata": {},
   "outputs": [],
   "source": [
    "with open(\"dubins5d_ground/grid.pkl\",\"rb\") as f:\n",
    "    grid_ground = pickle.load(f)\n",
    "values_ground = np.load(\"dubins5d_ground/target_values.npy\")"
   ]
  },
  {
   "attachments": {},
   "cell_type": "markdown",
   "metadata": {},
   "source": [
    "### Plot the value function"
   ]
  },
  {
   "cell_type": "code",
   "execution_count": null,
   "metadata": {},
   "outputs": [],
   "source": [
    "import matplotlib.pyplot as plt\n",
    "plt.jet()\n",
    "plt.figure(figsize=(13, 8))\n",
    "plt.contourf(grid_ground.coordinate_vectors[0], grid_ground.coordinate_vectors[1], values_ground[:, :, 20, 26, 5].T)\n",
    "plt.colorbar()\n",
    "plt.contour(grid_ground.coordinate_vectors[0],\n",
    "            grid_ground.coordinate_vectors[1],\n",
    "            values_ground[:, :, 0, 26, 5].T,\n",
    "            levels=0,\n",
    "            colors=\"black\",\n",
    "            linewidths=3)"
   ]
  }
 ],
 "metadata": {
  "kernelspec": {
   "display_name": "hjr_env",
   "language": "python",
   "name": "python3"
  },
  "language_info": {
   "name": "python",
   "version": "3.9.19"
  },
  "orig_nbformat": 4,
  "vscode": {
   "interpreter": {
    "hash": "a6bc3cc37ea157ca53a8e186cad4a6b32da83bebedad064832eda346ed775611"
   }
  }
 },
 "nbformat": 4,
 "nbformat_minor": 2
}
